{
 "cells": [
  {
   "cell_type": "code",
   "execution_count": 1,
   "id": "5162786e",
   "metadata": {},
   "outputs": [],
   "source": [
    "#%%\n",
    "from ns3gym import ns3env\n",
    "from comet_ml import Experiment, Optimizer\n",
    "import tqdm\n",
    "import subprocess\n",
    "from collections import deque\n",
    "import numpy as np\n",
    "\n",
    "from agents.ddpg.agent import Agent, Config\n",
    "from agents.ddpg.model import Actor\n",
    "from agents.teacher import Teacher, EnvWrapper\n",
    "from preprocessor import Preprocessor"
   ]
  },
  {
   "cell_type": "code",
   "execution_count": 2,
   "id": "afc67992",
   "metadata": {},
   "outputs": [
    {
     "name": "stdout",
     "output_type": "stream",
     "text": [
      "Steps per episode: 6000\n",
      "Waiting for simulation script to connect on port: tcp://localhost:41010\n",
      "Please start proper ns-3 simulation script using ./waf --run \"...\"\n",
      "6.723999|6.589966|6.589966|7.148438|6.511780|0|0|0|0|0|5|-nan\n",
      "observation_space dim: 300\n",
      "Observation space shape: (1, 300)\n",
      "Action space shape: (1, 1)\n"
     ]
    }
   ],
   "source": [
    "#%%\n",
    "scenario = \"basic\"\n",
    "\n",
    "simTime = 60 # seconds\n",
    "stepTime = 0.01  # seconds\n",
    "history_length = 300\n",
    "\n",
    "EPISODE_COUNT = 15\n",
    "steps_per_ep = int(simTime/stepTime)\n",
    "\n",
    "sim_args = {\n",
    "    \"simTime\": simTime,\n",
    "    \"envStepTime\": stepTime,\n",
    "    \"historyLength\": history_length,\n",
    "    \"agentType\": Agent.TYPE,\n",
    "    \"scenario\": \"basic\",\n",
    "    \"nWifi\": 5,\n",
    "}\n",
    "\n",
    "print(\"Steps per episode:\", steps_per_ep)\n",
    "\n",
    "threads_no = 1\n",
    "env = EnvWrapper(threads_no, **sim_args)\n",
    "\n",
    "#%%\n",
    "env.reset()\n",
    "ob_space = env.observation_space\n",
    "ac_space = env.action_space\n",
    "\n",
    "print(\"Observation space shape:\", ob_space)\n",
    "print(\"Action space shape:\", ac_space)\n",
    "\n",
    "assert ob_space is not None"
   ]
  },
  {
   "cell_type": "code",
   "execution_count": 3,
   "id": "bc130290",
   "metadata": {},
   "outputs": [
    {
     "name": "stdout",
     "output_type": "stream",
     "text": [
      "CuDNN version: 7102\n",
      "cpu\n",
      "CuDNN version: 7102\n",
      "cpu\n",
      "CuDNN version: 7102\n",
      "cpu\n",
      "CuDNN version: 7102\n",
      "cpu\n",
      "CuDNN version: 7102\n",
      "cpu\n"
     ]
    },
    {
     "name": "stderr",
     "output_type": "stream",
     "text": [
      "COMET INFO: Experiment is live on comet.ml https://www.comet.com/sheila-janota/rl-in-wifi/2e1c6e15022248088b3d6d1a04fa27d3\n",
      "\n"
     ]
    },
    {
     "name": "stdout",
     "output_type": "stream",
     "text": [
      "0\n",
      "6.723999|6.589966|6.589966|7.148438|6.511780|0|0|0|0|0|5|-nan\n"
     ]
    },
    {
     "name": "stderr",
     "output_type": "stream",
     "text": [
      "  5%|▌         | 334/6300 [00:47<17:07,  5.81it/s, curr_speed=38.48 Mbps, mb_sent=12.70 Mb]"
     ]
    },
    {
     "name": "stdout",
     "output_type": "stream",
     "text": [
      "------- STARTED TRAINING -------\n",
      "------- STARTED TRAINING -------\n",
      "------- STARTED TRAINING -------\n",
      "------- STARTED TRAINING -------\n",
      "------- STARTED TRAINING -------\n"
     ]
    },
    {
     "name": "stderr",
     "output_type": "stream",
     "text": [
      "100%|██████████| 6300/6300 [17:07<00:00,  6.13it/s, curr_speed=39.13 Mbps, mb_sent=2333.23 Mb]\n"
     ]
    },
    {
     "name": "stdout",
     "output_type": "stream",
     "text": [
      "Waiting for simulation script to connect on port: tcp://localhost:49016\n",
      "Please start proper ns-3 simulation script using ./waf --run \"...\"\n",
      "Sent 2333.23 Mb/s.\tMean speed: 38.89 Mb/s\tEpisode 1/15 finished\n",
      "\n",
      "1\n",
      "6.723999|6.589966|6.589966|7.148438|6.511780|0|0|0|0|0|5|-nan\n"
     ]
    },
    {
     "name": "stderr",
     "output_type": "stream",
     "text": [
      "100%|██████████| 6300/6300 [16:35<00:00,  6.33it/s, curr_speed=38.99 Mbps, mb_sent=2338.42 Mb]\n"
     ]
    },
    {
     "name": "stdout",
     "output_type": "stream",
     "text": [
      "Waiting for simulation script to connect on port: tcp://localhost:48495\n",
      "Please start proper ns-3 simulation script using ./waf --run \"...\"\n",
      "Sent 2338.42 Mb/s.\tMean speed: 38.97 Mb/s\tEpisode 2/15 finished\n",
      "\n",
      "2\n",
      "6.723999|6.589966|6.589966|7.148438|6.511780|0|0|0|0|0|5|-nan\n"
     ]
    },
    {
     "name": "stderr",
     "output_type": "stream",
     "text": [
      "100%|██████████| 6300/6300 [17:36<00:00,  5.96it/s, curr_speed=39.00 Mbps, mb_sent=2324.73 Mb]\n"
     ]
    },
    {
     "name": "stdout",
     "output_type": "stream",
     "text": [
      "Waiting for simulation script to connect on port: tcp://localhost:53204\n",
      "Please start proper ns-3 simulation script using ./waf --run \"...\"\n",
      "Sent 2324.73 Mb/s.\tMean speed: 38.75 Mb/s\tEpisode 3/15 finished\n",
      "\n",
      "3\n",
      "6.723999|6.589966|6.589966|7.148438|6.511780|0|0|0|0|0|5|-nan\n"
     ]
    },
    {
     "name": "stderr",
     "output_type": "stream",
     "text": [
      "100%|██████████| 6300/6300 [17:29<00:00,  6.00it/s, curr_speed=38.39 Mbps, mb_sent=2305.38 Mb]\n"
     ]
    },
    {
     "name": "stdout",
     "output_type": "stream",
     "text": [
      "Waiting for simulation script to connect on port: tcp://localhost:36549\n",
      "Please start proper ns-3 simulation script using ./waf --run \"...\"\n",
      "Sent 2305.38 Mb/s.\tMean speed: 38.42 Mb/s\tEpisode 4/15 finished\n",
      "\n",
      "4\n",
      "6.723999|6.589966|6.589966|7.148438|6.511780|0|0|0|0|0|5|-nan\n"
     ]
    },
    {
     "name": "stderr",
     "output_type": "stream",
     "text": [
      "  5%|▍         | 305/6300 [00:28<12:54,  7.74it/s, curr_speed=38.53 Mbps, mb_sent=1.54 Mb]"
     ]
    },
    {
     "name": "stdout",
     "output_type": "stream",
     "text": [
      "------- MEMORY BUFFER FILLED -------\n",
      "------- MEMORY BUFFER FILLED -------\n",
      "------- MEMORY BUFFER FILLED -------\n",
      "------- MEMORY BUFFER FILLED -------\n",
      "------- MEMORY BUFFER FILLED -------\n"
     ]
    },
    {
     "name": "stderr",
     "output_type": "stream",
     "text": [
      "100%|██████████| 6300/6300 [17:37<00:00,  5.96it/s, curr_speed=38.37 Mbps, mb_sent=2284.75 Mb]\n"
     ]
    },
    {
     "name": "stdout",
     "output_type": "stream",
     "text": [
      "Waiting for simulation script to connect on port: tcp://localhost:40692\n",
      "Please start proper ns-3 simulation script using ./waf --run \"...\"\n",
      "Sent 2284.75 Mb/s.\tMean speed: 38.08 Mb/s\tEpisode 5/15 finished\n",
      "\n",
      "5\n",
      "6.723999|6.589966|6.589966|7.148438|6.511780|0|0|0|0|0|5|-nan\n"
     ]
    },
    {
     "name": "stderr",
     "output_type": "stream",
     "text": [
      "100%|██████████| 6300/6300 [18:15<00:00,  5.75it/s, curr_speed=37.37 Mbps, mb_sent=2269.33 Mb] \n"
     ]
    },
    {
     "name": "stdout",
     "output_type": "stream",
     "text": [
      "Waiting for simulation script to connect on port: tcp://localhost:22937\n",
      "Please start proper ns-3 simulation script using ./waf --run \"...\"\n",
      "Sent 2269.33 Mb/s.\tMean speed: 37.82 Mb/s\tEpisode 6/15 finished\n",
      "\n",
      "6\n",
      "6.723999|6.589966|6.589966|7.148438|6.511780|0|0|0|0|0|5|-nan\n"
     ]
    },
    {
     "name": "stderr",
     "output_type": "stream",
     "text": [
      "100%|██████████| 6300/6300 [17:31<00:00,  5.99it/s, curr_speed=34.04 Mbps, mb_sent=2254.16 Mb]\n"
     ]
    },
    {
     "name": "stdout",
     "output_type": "stream",
     "text": [
      "Waiting for simulation script to connect on port: tcp://localhost:37093\n",
      "Please start proper ns-3 simulation script using ./waf --run \"...\"\n",
      "Sent 2254.16 Mb/s.\tMean speed: 37.57 Mb/s\tEpisode 7/15 finished\n",
      "\n",
      "7\n",
      "6.723999|6.589966|6.589966|7.148438|6.511780|0|0|0|0|0|5|-nan\n"
     ]
    },
    {
     "name": "stderr",
     "output_type": "stream",
     "text": [
      "100%|██████████| 6300/6300 [16:50<00:00,  6.23it/s, curr_speed=37.34 Mbps, mb_sent=2247.09 Mb]\n"
     ]
    },
    {
     "name": "stdout",
     "output_type": "stream",
     "text": [
      "Waiting for simulation script to connect on port: tcp://localhost:52936\n",
      "Please start proper ns-3 simulation script using ./waf --run \"...\"\n",
      "Sent 2247.09 Mb/s.\tMean speed: 37.45 Mb/s\tEpisode 8/15 finished\n",
      "\n",
      "8\n",
      "6.723999|6.589966|6.589966|7.148438|6.511780|0|0|0|0|0|5|-nan\n"
     ]
    },
    {
     "name": "stderr",
     "output_type": "stream",
     "text": [
      "100%|██████████| 6300/6300 [17:18<00:00,  6.07it/s, curr_speed=37.28 Mbps, mb_sent=2232.58 Mb]\n"
     ]
    },
    {
     "name": "stdout",
     "output_type": "stream",
     "text": [
      "Waiting for simulation script to connect on port: tcp://localhost:37916\n",
      "Please start proper ns-3 simulation script using ./waf --run \"...\"\n",
      "Sent 2232.58 Mb/s.\tMean speed: 37.21 Mb/s\tEpisode 9/15 finished\n",
      "\n",
      "9\n",
      "6.723999|6.589966|6.589966|7.148438|6.511780|0|0|0|0|0|5|-nan\n"
     ]
    },
    {
     "name": "stderr",
     "output_type": "stream",
     "text": [
      "100%|██████████| 6300/6300 [17:01<00:00,  6.17it/s, curr_speed=37.16 Mbps, mb_sent=2234.96 Mb]\n"
     ]
    },
    {
     "name": "stdout",
     "output_type": "stream",
     "text": [
      "Waiting for simulation script to connect on port: tcp://localhost:32431\n",
      "Please start proper ns-3 simulation script using ./waf --run \"...\"\n",
      "Sent 2234.96 Mb/s.\tMean speed: 37.25 Mb/s\tEpisode 10/15 finished\n",
      "\n",
      "10\n",
      "6.723999|6.589966|6.589966|7.148438|6.511780|0|0|0|0|0|5|-nan\n"
     ]
    },
    {
     "name": "stderr",
     "output_type": "stream",
     "text": [
      "100%|██████████| 6300/6300 [16:35<00:00,  6.33it/s, curr_speed=37.13 Mbps, mb_sent=2232.70 Mb]\n"
     ]
    },
    {
     "name": "stdout",
     "output_type": "stream",
     "text": [
      "Waiting for simulation script to connect on port: tcp://localhost:29289\n",
      "Please start proper ns-3 simulation script using ./waf --run \"...\"\n",
      "Sent 2232.70 Mb/s.\tMean speed: 37.21 Mb/s\tEpisode 11/15 finished\n",
      "\n",
      "11\n",
      "6.723999|6.589966|6.589966|7.148438|6.511780|0|0|0|0|0|5|-nan\n"
     ]
    },
    {
     "name": "stderr",
     "output_type": "stream",
     "text": [
      "100%|██████████| 6300/6300 [16:21<00:00,  6.42it/s, curr_speed=37.14 Mbps, mb_sent=2228.61 Mb]\n"
     ]
    },
    {
     "name": "stdout",
     "output_type": "stream",
     "text": [
      "Waiting for simulation script to connect on port: tcp://localhost:53428\n",
      "Please start proper ns-3 simulation script using ./waf --run \"...\"\n",
      "Sent 2228.61 Mb/s.\tMean speed: 37.14 Mb/s\tEpisode 12/15 finished\n",
      "\n",
      "12\n",
      "Turning off noise\n",
      "6.723999|6.589966|6.589966|7.148438|6.511780|0|0|0|0|0|5|-nan\n"
     ]
    },
    {
     "name": "stderr",
     "output_type": "stream",
     "text": [
      "100%|██████████| 6300/6300 [17:45<00:00,  5.91it/s, curr_speed=42.77 Mbps, mb_sent=2225.00 Mb]\n"
     ]
    },
    {
     "name": "stdout",
     "output_type": "stream",
     "text": [
      "Waiting for simulation script to connect on port: tcp://localhost:51001\n",
      "Please start proper ns-3 simulation script using ./waf --run \"...\"\n",
      "Sent 2225.00 Mb/s.\tMean speed: 37.08 Mb/s\tEpisode 13/15 finished\n",
      "\n",
      "13\n",
      "Turning off noise\n",
      "6.723999|6.589966|6.589966|7.148438|6.511780|0|0|0|0|0|5|-nan\n"
     ]
    },
    {
     "name": "stderr",
     "output_type": "stream",
     "text": [
      "100%|██████████| 6300/6300 [16:43<00:00,  6.28it/s, curr_speed=42.77 Mbps, mb_sent=2225.00 Mb]\n"
     ]
    },
    {
     "name": "stdout",
     "output_type": "stream",
     "text": [
      "Waiting for simulation script to connect on port: tcp://localhost:24227\n",
      "Please start proper ns-3 simulation script using ./waf --run \"...\"\n",
      "Sent 2225.00 Mb/s.\tMean speed: 37.08 Mb/s\tEpisode 14/15 finished\n",
      "\n",
      "14\n",
      "Turning off noise\n",
      "6.723999|6.589966|6.589966|7.148438|6.511780|0|0|0|0|0|5|-nan\n"
     ]
    },
    {
     "name": "stderr",
     "output_type": "stream",
     "text": [
      "100%|██████████| 6300/6300 [10:16<00:00, 10.22it/s, curr_speed=42.77 Mbps, mb_sent=2225.00 Mb]\n"
     ]
    },
    {
     "name": "stdout",
     "output_type": "stream",
     "text": [
      "Waiting for simulation script to connect on port: tcp://localhost:15599\n",
      "Please start proper ns-3 simulation script using ./waf --run \"...\"\n"
     ]
    },
    {
     "name": "stderr",
     "output_type": "stream",
     "text": [
      "COMET INFO: ----------------------------\n",
      "COMET INFO: Comet.ml Experiment Summary:\n",
      "COMET INFO:   Data:\n",
      "COMET INFO:     url: https://www.comet.com/sheila-janota/rl-in-wifi/2e1c6e15022248088b3d6d1a04fa27d3\n",
      "COMET INFO:   Metrics [count] (min, max):\n",
      "COMET INFO:     Chosen CW1 [89985]           : (16.0, 1024.0)\n",
      "COMET INFO:     Chosen CW2 [89985]           : (16.0, 1024.0)\n",
      "COMET INFO:     Chosen CW3 [89985]           : (16.0, 1024.0)\n",
      "COMET INFO:     Chosen CW4 [89985]           : (16.0, 1024.0)\n",
      "COMET INFO:     Chosen CW5 [89985]           : (16.0, 1024.0)\n",
      "COMET INFO:     Cumulative reward [15]       : (599.2684082314372, 653.1735841408372)\n",
      "COMET INFO:     Current throughput [89985]   : (21.9814453125, 58.44963455200195)\n",
      "COMET INFO:     Current throughput1 [89985]  : (0.0, 19.42364501953125)\n",
      "COMET INFO:     Current throughput2 [89985]  : (0.0, 19.03271484375)\n",
      "COMET INFO:     Current throughput3 [89985]  : (0.0, 18.988037109375)\n",
      "COMET INFO:     Current throughput4 [89985]  : (0.0, 19.256101608276367)\n",
      "COMET INFO:     Current throughput5 [89985]  : (0.0, 19.34545135498047)\n",
      "COMET INFO:     Fairness index [89985]       : (0.9779660105705261, 1.0)\n",
      "COMET INFO:     Megabytes sent [89985]       : (0.2904050052165985, 2338.420140489936)\n",
      "COMET INFO:     Observation 0 [89985]        : (0.0, 0.9204166666666667)\n",
      "COMET INFO:     Observation 1 [89985]        : (0.0, 0.45606160101738513)\n",
      "COMET INFO:     Per-ep reward [89985]        : (29.776220701634884, 653.1735841408372)\n",
      "COMET INFO:     Round megabytes sent1 [89985]: (0.0, 11.51568603515625)\n",
      "COMET INFO:     Round megabytes sent2 [89985]: (0.0, 11.52685546875)\n",
      "COMET INFO:     Round megabytes sent3 [89985]: (0.0, 11.51568603515625)\n",
      "COMET INFO:     Round megabytes sent4 [89985]: (0.0, 11.51568603515625)\n",
      "COMET INFO:     Round megabytes sent5 [89985]: (0.0, 11.49334716796875)\n",
      "COMET INFO:     Round reward [89985]         : (0.03276367112994194, 0.20849609375)\n",
      "COMET INFO:     Speed [15]                   : (37.08325450370709, 38.9736690081656)\n",
      "COMET INFO:     Station count [89985]        : (5.0, 5.0)\n",
      "COMET INFO:     actor_loss [89985]           : (-1894869.375, 0.0)\n",
      "COMET INFO:     critic_loss [89985]          : (0.0, 39406698496.0)\n",
      "COMET INFO:     loss [167908]                : (-4072143.25, 345539837952.0)\n",
      "COMET INFO:   Uploads:\n",
      "COMET INFO:     histogram3d: 89985\n",
      "COMET INFO: ----------------------------\n",
      "COMET INFO: Uploading stats to Comet before program termination (may take several seconds)\n",
      "COMET INFO: Still uploading\n"
     ]
    },
    {
     "name": "stdout",
     "output_type": "stream",
     "text": [
      "Sent 2225.00 Mb/s.\tMean speed: 37.08 Mb/s\tEpisode 15/15 finished\n",
      "\n"
     ]
    },
    {
     "name": "stderr",
     "output_type": "stream",
     "text": [
      "COMET INFO: Still uploading\n",
      "COMET INFO: Still uploading\n",
      "COMET INFO: Still uploading\n",
      "COMET INFO: Still uploading\n",
      "COMET INFO: Still uploading\n",
      "COMET INFO: Still uploading\n",
      "COMET INFO: Still uploading\n",
      "COMET INFO: Still uploading\n",
      "COMET INFO: Still uploading\n",
      "COMET INFO: Still uploading\n",
      "COMET INFO: Still uploading\n",
      "COMET INFO: Still uploading\n",
      "COMET INFO: Still uploading\n",
      "COMET INFO: Still uploading\n",
      "COMET INFO: Still uploading\n",
      "COMET INFO: Still uploading\n",
      "COMET INFO: Still uploading\n",
      "COMET INFO: Still uploading\n",
      "COMET INFO: Still uploading\n",
      "COMET INFO: Still uploading\n",
      "COMET INFO: Still uploading\n",
      "COMET INFO: Still uploading\n",
      "COMET INFO: Still uploading\n",
      "COMET INFO: Still uploading\n",
      "COMET INFO: Still uploading\n",
      "COMET INFO: Still uploading\n",
      "COMET INFO: Still uploading\n",
      "COMET INFO: Still uploading\n",
      "COMET INFO: Still uploading\n",
      "COMET INFO: Still uploading\n",
      "COMET INFO: Still uploading\n",
      "COMET INFO: Still uploading\n",
      "COMET INFO: Still uploading\n",
      "COMET INFO: Still uploading\n",
      "COMET INFO: Still uploading\n",
      "COMET INFO: Still uploading\n",
      "COMET INFO: Still uploading\n",
      "COMET INFO: Still uploading\n",
      "COMET INFO: Still uploading\n",
      "COMET INFO: Still uploading\n",
      "COMET INFO: Still uploading\n",
      "COMET INFO: Still uploading\n",
      "COMET INFO: Still uploading\n",
      "COMET INFO: Still uploading\n",
      "COMET INFO: Still uploading\n",
      "COMET INFO: Still uploading\n",
      "COMET INFO: Still uploading\n",
      "COMET INFO: Still uploading\n",
      "COMET INFO: Still uploading\n",
      "COMET INFO: Still uploading\n",
      "COMET INFO: Still uploading\n",
      "COMET INFO: Still uploading\n",
      "COMET INFO: Still uploading\n",
      "COMET INFO: Still uploading\n",
      "COMET INFO: Still uploading\n",
      "COMET INFO: Still uploading\n",
      "COMET INFO: Still uploading\n",
      "COMET INFO: Still uploading\n",
      "COMET INFO: Still uploading\n",
      "COMET WARNING: Failed to send all messages, metrics and output will likely be incomplete\n",
      "COMET ERROR: Comet failed to send all the data back (91012 messages and 0 uploads)\n",
      "COMET WARNING: Failed to log run in comet.ml\n"
     ]
    },
    {
     "name": "stdout",
     "output_type": "stream",
     "text": [
      "Training finished.\n"
     ]
    }
   ],
   "source": [
    "#%%\n",
    "teacher = Teacher(env, 1, Preprocessor(False))\n",
    "\n",
    "lr_actor = 4e-4\n",
    "lr_critic = 4e-3\n",
    "\n",
    "agent_count = 5 # Number of agents to train\n",
    "agents = []    # List to store the agents\n",
    "\n",
    "for i in range(agent_count):\n",
    "    config = Config(buffer_size=4*steps_per_ep*threads_no, batch_size=32, gamma=0.7, tau=1e-3, lr_actor=lr_actor, lr_critic=lr_critic, update_every=1)\n",
    "    agent = Agent(history_length, action_size=1, config=config, actor_layers=[8, 128, 16], critic_layers=[8,128,16])\n",
    "    agents.append(agent)\n",
    "    \n",
    "# Test the model\n",
    "hyperparams = {**config.__dict__, **sim_args}\n",
    "tags = [\"Rew: normalized speed\",\n",
    "        f\"{Agent.NAME}\",\n",
    "        sim_args['scenario'],\n",
    "        f\"Actor: {lr_actor}\",\n",
    "        f\"Critic: {lr_critic}\",\n",
    "        f\"Instances: {threads_no}\",\n",
    "        f\"Station count: {sim_args['nWifi']}\",\n",
    "        *[f\"{key}: {sim_args[key]}\" for key in list(sim_args)[:3]]]\n",
    "# agent.save()\n",
    "logger = teacher.train(agents, EPISODE_COUNT,\n",
    "                        simTime=simTime,\n",
    "                        stepTime=stepTime,\n",
    "                        history_length=history_length,\n",
    "                        send_logs=True,\n",
    "                        experimental=True,\n",
    "                        tags=tags,\n",
    "                        parameters=hyperparams)\n",
    "# logger = teacher.eval(agents,\n",
    "#                         simTime=simTime,\n",
    "#                         stepTime=stepTime,\n",
    "#                         history_length=history_length,\n",
    "#                         tags=tags,\n",
    "#                         parameters=hyperparams)\n",
    "# agent.save()"
   ]
  },
  {
   "cell_type": "code",
   "execution_count": null,
   "id": "9e8b1fd9",
   "metadata": {},
   "outputs": [],
   "source": []
  },
  {
   "cell_type": "code",
   "execution_count": 4,
   "id": "3ef102c2",
   "metadata": {},
   "outputs": [],
   "source": [
    "#%%\n",
    "from ns3gym import ns3env\n",
    "from comet_ml import Experiment, Optimizer\n",
    "import tqdm\n",
    "import subprocess\n",
    "from collections import deque\n",
    "import numpy as np\n",
    "\n",
    "from agents.ddpg.agent import Agent, Config\n",
    "from agents.ddpg.model import Actor\n",
    "from agents.teacher import Teacher, EnvWrapper\n",
    "from preprocessor import Preprocessor"
   ]
  },
  {
   "cell_type": "code",
   "execution_count": 5,
   "id": "1bb487c6",
   "metadata": {},
   "outputs": [
    {
     "name": "stdout",
     "output_type": "stream",
     "text": [
      "Steps per episode: 6000\n",
      "Waiting for simulation script to connect on port: tcp://localhost:34435\n",
      "Please start proper ns-3 simulation script using ./waf --run \"...\"\n",
      "6.723999|6.589966|6.589966|7.148438|6.511780|0|0|0|0|0|5|-nan\n",
      "observation_space dim: 300\n",
      "Observation space shape: (1, 300)\n",
      "Action space shape: (1, 1)\n"
     ]
    }
   ],
   "source": [
    "#%%\n",
    "scenario = \"basic\"\n",
    "\n",
    "simTime = 60 # seconds\n",
    "stepTime = 0.01  # seconds\n",
    "history_length = 300\n",
    "\n",
    "EPISODE_COUNT = 15\n",
    "steps_per_ep = int(simTime/stepTime)\n",
    "\n",
    "sim_args = {\n",
    "    \"simTime\": simTime,\n",
    "    \"envStepTime\": stepTime,\n",
    "    \"historyLength\": history_length,\n",
    "    \"agentType\": Agent.TYPE,\n",
    "    \"scenario\": \"basic\",\n",
    "    \"nWifi\": 5,\n",
    "}\n",
    "\n",
    "print(\"Steps per episode:\", steps_per_ep)\n",
    "\n",
    "threads_no = 1\n",
    "env = EnvWrapper(threads_no, **sim_args)\n",
    "\n",
    "#%%\n",
    "env.reset()\n",
    "ob_space = env.observation_space\n",
    "ac_space = env.action_space\n",
    "\n",
    "print(\"Observation space shape:\", ob_space)\n",
    "print(\"Action space shape:\", ac_space)\n",
    "\n",
    "assert ob_space is not None"
   ]
  },
  {
   "cell_type": "code",
   "execution_count": 6,
   "id": "c3419d49",
   "metadata": {},
   "outputs": [
    {
     "name": "stdout",
     "output_type": "stream",
     "text": [
      "CuDNN version: 7102\n",
      "cpu\n",
      "CuDNN version: 7102\n",
      "cpu\n",
      "CuDNN version: 7102\n",
      "cpu\n",
      "CuDNN version: 7102\n",
      "cpu\n",
      "CuDNN version: 7102\n",
      "cpu\n"
     ]
    },
    {
     "name": "stderr",
     "output_type": "stream",
     "text": [
      "COMET INFO: Experiment is live on comet.ml https://www.comet.com/sheila-janota/rl-in-wifi/59a60d09a4644aaaa8fa8ec1d23495b0\n",
      "\n"
     ]
    },
    {
     "name": "stdout",
     "output_type": "stream",
     "text": [
      "0\n",
      "6.723999|6.589966|6.589966|7.148438|6.511780|0|0|0|0|0|5|-nan\n"
     ]
    },
    {
     "name": "stderr",
     "output_type": "stream",
     "text": [
      "  5%|▌         | 334/6300 [00:43<13:28,  7.38it/s, curr_speed=38.42 Mbps, mb_sent=12.68 Mb]"
     ]
    },
    {
     "name": "stdout",
     "output_type": "stream",
     "text": [
      "------- STARTED TRAINING -------\n",
      "------- STARTED TRAINING -------\n",
      "------- STARTED TRAINING -------\n",
      "------- STARTED TRAINING -------\n",
      "------- STARTED TRAINING -------\n"
     ]
    },
    {
     "name": "stderr",
     "output_type": "stream",
     "text": [
      "100%|██████████| 6300/6300 [20:01<00:00,  5.25it/s, curr_speed=38.85 Mbps, mb_sent=2333.38 Mb]\n"
     ]
    },
    {
     "name": "stdout",
     "output_type": "stream",
     "text": [
      "Waiting for simulation script to connect on port: tcp://localhost:28280\n",
      "Please start proper ns-3 simulation script using ./waf --run \"...\"\n",
      "Sent 2333.38 Mb/s.\tMean speed: 38.89 Mb/s\tEpisode 1/15 finished\n",
      "\n",
      "1\n",
      "6.723999|6.589966|6.589966|7.148438|6.511780|0|0|0|0|0|5|-nan\n"
     ]
    },
    {
     "name": "stderr",
     "output_type": "stream",
     "text": [
      "100%|██████████| 6300/6300 [18:12<00:00,  5.77it/s, curr_speed=38.59 Mbps, mb_sent=2337.05 Mb]\n"
     ]
    },
    {
     "name": "stdout",
     "output_type": "stream",
     "text": [
      "Waiting for simulation script to connect on port: tcp://localhost:29514\n",
      "Please start proper ns-3 simulation script using ./waf --run \"...\"\n",
      "Sent 2337.05 Mb/s.\tMean speed: 38.95 Mb/s\tEpisode 2/15 finished\n",
      "\n",
      "2\n",
      "6.723999|6.589966|6.589966|7.148438|6.511780|0|0|0|0|0|5|-nan\n"
     ]
    },
    {
     "name": "stderr",
     "output_type": "stream",
     "text": [
      "100%|██████████| 6300/6300 [21:24<00:00,  4.91it/s, curr_speed=38.43 Mbps, mb_sent=2323.54 Mb]\n"
     ]
    },
    {
     "name": "stdout",
     "output_type": "stream",
     "text": [
      "Waiting for simulation script to connect on port: tcp://localhost:51977\n",
      "Please start proper ns-3 simulation script using ./waf --run \"...\"\n",
      "Sent 2323.54 Mb/s.\tMean speed: 38.73 Mb/s\tEpisode 3/15 finished\n",
      "\n",
      "3\n",
      "6.723999|6.589966|6.589966|7.148438|6.511780|0|0|0|0|0|5|-nan\n"
     ]
    },
    {
     "name": "stderr",
     "output_type": "stream",
     "text": [
      "100%|██████████| 6300/6300 [20:33<00:00,  5.11it/s, curr_speed=38.66 Mbps, mb_sent=2305.20 Mb]\n"
     ]
    },
    {
     "name": "stdout",
     "output_type": "stream",
     "text": [
      "Waiting for simulation script to connect on port: tcp://localhost:35150\n",
      "Please start proper ns-3 simulation script using ./waf --run \"...\"\n",
      "Sent 2305.20 Mb/s.\tMean speed: 38.42 Mb/s\tEpisode 4/15 finished\n",
      "\n",
      "4\n",
      "6.723999|6.589966|6.589966|7.148438|6.511780|0|0|0|0|0|5|-nan\n"
     ]
    },
    {
     "name": "stderr",
     "output_type": "stream",
     "text": [
      "  5%|▍         | 305/6300 [00:29<13:58,  7.15it/s, curr_speed=35.74 Mbps, mb_sent=1.43 Mb]"
     ]
    },
    {
     "name": "stdout",
     "output_type": "stream",
     "text": [
      "------- MEMORY BUFFER FILLED -------\n",
      "------- MEMORY BUFFER FILLED -------\n",
      "------- MEMORY BUFFER FILLED -------\n",
      "------- MEMORY BUFFER FILLED -------\n",
      "------- MEMORY BUFFER FILLED -------\n"
     ]
    },
    {
     "name": "stderr",
     "output_type": "stream",
     "text": [
      "100%|██████████| 6300/6300 [18:42<00:00,  5.61it/s, curr_speed=38.37 Mbps, mb_sent=2284.19 Mb]\n"
     ]
    },
    {
     "name": "stdout",
     "output_type": "stream",
     "text": [
      "Waiting for simulation script to connect on port: tcp://localhost:43578\n",
      "Please start proper ns-3 simulation script using ./waf --run \"...\"\n",
      "Sent 2284.19 Mb/s.\tMean speed: 38.07 Mb/s\tEpisode 5/15 finished\n",
      "\n",
      "5\n",
      "6.723999|6.589966|6.589966|7.148438|6.511780|0|0|0|0|0|5|-nan\n"
     ]
    },
    {
     "name": "stderr",
     "output_type": "stream",
     "text": [
      " 69%|██████▊   | 4316/6300 [13:26<06:06,  5.41it/s, curr_speed=39.25 Mbps, mb_sent=1548.81 Mb]COMET ERROR: File could not be uploaded\n",
      "COMET ERROR: File could not be uploaded\n",
      "COMET ERROR: File could not be uploaded\n",
      "COMET ERROR: File could not be uploaded\n",
      "COMET ERROR: File could not be uploaded\n",
      "COMET ERROR: File could not be uploaded\n",
      "COMET ERROR: File could not be uploaded\n",
      "COMET ERROR: File could not be uploaded\n",
      "COMET ERROR: File could not be uploaded\n",
      "COMET ERROR: File could not be uploaded\n",
      "COMET ERROR: File could not be uploaded\n",
      "COMET ERROR: File could not be uploaded\n",
      "COMET ERROR: File could not be uploaded\n",
      "COMET ERROR: File could not be uploaded\n",
      "COMET ERROR: File could not be uploaded\n",
      "COMET ERROR: File could not be uploaded\n",
      "COMET ERROR: File could not be uploaded\n",
      "COMET ERROR: File could not be uploaded\n",
      "COMET ERROR: File could not be uploaded\n",
      "COMET ERROR: File could not be uploaded\n",
      "COMET ERROR: File could not be uploaded\n",
      "COMET ERROR: File could not be uploaded\n",
      "COMET ERROR: File could not be uploaded\n",
      "COMET ERROR: File could not be uploaded\n",
      "COMET ERROR: File could not be uploaded\n",
      "COMET ERROR: File could not be uploaded\n",
      "COMET ERROR: File could not be uploaded\n",
      "COMET ERROR: File could not be uploaded\n",
      "COMET ERROR: File could not be uploaded\n",
      "COMET ERROR: File could not be uploaded\n",
      "COMET ERROR: File could not be uploaded\n",
      "COMET ERROR: File could not be uploaded\n",
      "COMET ERROR: File could not be uploaded\n",
      "COMET ERROR: File could not be uploaded\n",
      "COMET ERROR: File could not be uploaded\n",
      "COMET ERROR: File could not be uploaded\n",
      "COMET ERROR: File could not be uploaded\n",
      "COMET ERROR: File could not be uploaded\n",
      "COMET ERROR: File could not be uploaded\n",
      "COMET ERROR: File could not be uploaded\n",
      "COMET ERROR: File could not be uploaded\n",
      "COMET ERROR: File could not be uploaded\n",
      "COMET ERROR: File could not be uploaded\n",
      "COMET ERROR: File could not be uploaded\n",
      "COMET ERROR: File could not be uploaded\n",
      "COMET ERROR: File could not be uploaded\n",
      "COMET ERROR: File could not be uploaded\n",
      "COMET ERROR: File could not be uploaded\n",
      "COMET ERROR: File could not be uploaded\n",
      "COMET ERROR: File could not be uploaded\n",
      "COMET ERROR: File could not be uploaded\n",
      "COMET ERROR: File could not be uploaded\n",
      "COMET ERROR: File could not be uploaded\n",
      "COMET ERROR: File could not be uploaded\n",
      "COMET ERROR: File could not be uploaded\n",
      "100%|██████████| 6300/6300 [20:07<00:00,  5.22it/s, curr_speed=39.04 Mbps, mb_sent=2322.51 Mb]\n"
     ]
    },
    {
     "name": "stdout",
     "output_type": "stream",
     "text": [
      "Waiting for simulation script to connect on port: tcp://localhost:14779\n",
      "Please start proper ns-3 simulation script using ./waf --run \"...\"\n",
      "Sent 2322.51 Mb/s.\tMean speed: 38.71 Mb/s\tEpisode 6/15 finished\n",
      "\n",
      "6\n",
      "6.723999|6.589966|6.589966|7.148438|6.511780|0|0|0|0|0|5|-nan\n"
     ]
    },
    {
     "name": "stderr",
     "output_type": "stream",
     "text": [
      "100%|██████████| 6300/6300 [21:27<00:00,  4.89it/s, curr_speed=38.75 Mbps, mb_sent=2330.61 Mb]\n"
     ]
    },
    {
     "name": "stdout",
     "output_type": "stream",
     "text": [
      "Waiting for simulation script to connect on port: tcp://localhost:50811\n",
      "Please start proper ns-3 simulation script using ./waf --run \"...\"\n",
      "Sent 2330.61 Mb/s.\tMean speed: 38.84 Mb/s\tEpisode 7/15 finished\n",
      "\n",
      "7\n",
      "6.723999|6.589966|6.589966|7.148438|6.511780|0|0|0|0|0|5|-nan\n"
     ]
    },
    {
     "name": "stderr",
     "output_type": "stream",
     "text": [
      "100%|██████████| 6300/6300 [19:37<00:00,  5.35it/s, curr_speed=38.96 Mbps, mb_sent=2327.63 Mb]\n"
     ]
    },
    {
     "name": "stdout",
     "output_type": "stream",
     "text": [
      "Waiting for simulation script to connect on port: tcp://localhost:31108\n",
      "Please start proper ns-3 simulation script using ./waf --run \"...\"\n",
      "Sent 2327.63 Mb/s.\tMean speed: 38.79 Mb/s\tEpisode 8/15 finished\n",
      "\n",
      "8\n",
      "6.723999|6.589966|6.589966|7.148438|6.511780|0|0|0|0|0|5|-nan\n"
     ]
    },
    {
     "name": "stderr",
     "output_type": "stream",
     "text": [
      "100%|██████████| 6300/6300 [19:32<00:00,  5.37it/s, curr_speed=38.21 Mbps, mb_sent=2321.14 Mb]\n"
     ]
    },
    {
     "name": "stdout",
     "output_type": "stream",
     "text": [
      "Waiting for simulation script to connect on port: tcp://localhost:15106\n",
      "Please start proper ns-3 simulation script using ./waf --run \"...\"\n",
      "Sent 2321.14 Mb/s.\tMean speed: 38.69 Mb/s\tEpisode 9/15 finished\n",
      "\n",
      "9\n",
      "6.723999|6.589966|6.589966|7.148438|6.511780|0|0|0|0|0|5|-nan\n"
     ]
    },
    {
     "name": "stderr",
     "output_type": "stream",
     "text": [
      "100%|██████████| 6300/6300 [19:59<00:00,  5.25it/s, curr_speed=38.81 Mbps, mb_sent=2320.31 Mb]\n"
     ]
    },
    {
     "name": "stdout",
     "output_type": "stream",
     "text": [
      "Waiting for simulation script to connect on port: tcp://localhost:19846\n",
      "Please start proper ns-3 simulation script using ./waf --run \"...\"\n",
      "Sent 2320.31 Mb/s.\tMean speed: 38.67 Mb/s\tEpisode 10/15 finished\n",
      "\n",
      "10\n",
      "6.723999|6.589966|6.589966|7.148438|6.511780|0|0|0|0|0|5|-nan\n"
     ]
    },
    {
     "name": "stderr",
     "output_type": "stream",
     "text": [
      "100%|██████████| 6300/6300 [25:44<00:00,  4.08it/s, curr_speed=38.55 Mbps, mb_sent=2319.97 Mb]\n"
     ]
    },
    {
     "name": "stdout",
     "output_type": "stream",
     "text": [
      "Waiting for simulation script to connect on port: tcp://localhost:43325\n",
      "Please start proper ns-3 simulation script using ./waf --run \"...\"\n",
      "Sent 2319.97 Mb/s.\tMean speed: 38.67 Mb/s\tEpisode 11/15 finished\n",
      "\n",
      "11\n",
      "6.723999|6.589966|6.589966|7.148438|6.511780|0|0|0|0|0|5|-nan\n"
     ]
    },
    {
     "name": "stderr",
     "output_type": "stream",
     "text": [
      " 52%|█████▏    | 3276/6300 [11:53<10:09,  4.96it/s, curr_speed=38.80 Mbps, mb_sent=1149.22 Mb] COMET ERROR: File could not be uploaded\n",
      "COMET ERROR: File could not be uploaded\n",
      " 52%|█████▏    | 3277/6300 [11:53<10:33,  4.77it/s, curr_speed=38.78 Mbps, mb_sent=1149.59 Mb]COMET ERROR: File could not be uploaded\n",
      "COMET ERROR: File could not be uploaded\n",
      " 52%|█████▏    | 3278/6300 [11:53<10:47,  4.67it/s, curr_speed=38.76 Mbps, mb_sent=1149.96 Mb]COMET ERROR: File could not be uploaded\n",
      " 52%|█████▏    | 3279/6300 [11:54<10:45,  4.68it/s, curr_speed=38.79 Mbps, mb_sent=1150.38 Mb]COMET ERROR: File could not be uploaded\n",
      " 52%|█████▏    | 3280/6300 [11:54<10:43,  4.69it/s, curr_speed=38.79 Mbps, mb_sent=1150.76 Mb]COMET ERROR: File could not be uploaded\n",
      " 52%|█████▏    | 3281/6300 [11:54<10:42,  4.70it/s, curr_speed=38.77 Mbps, mb_sent=1151.17 Mb]COMET ERROR: File could not be uploaded\n",
      " 52%|█████▏    | 3282/6300 [11:54<11:02,  4.55it/s, curr_speed=38.77 Mbps, mb_sent=1151.56 Mb]COMET ERROR: File could not be uploaded\n",
      " 52%|█████▏    | 3283/6300 [11:54<11:17,  4.45it/s, curr_speed=38.75 Mbps, mb_sent=1151.95 Mb]COMET ERROR: File could not be uploaded\n",
      " 52%|█████▏    | 3283/6300 [11:55<11:17,  4.45it/s, curr_speed=38.76 Mbps, mb_sent=1152.37 Mb]COMET ERROR: File could not be uploaded\n",
      " 52%|█████▏    | 3284/6300 [11:55<11:18,  4.44it/s, curr_speed=38.71 Mbps, mb_sent=1152.72 Mb]COMET ERROR: File could not be uploaded\n",
      " 52%|█████▏    | 3285/6300 [11:55<10:59,  4.57it/s, curr_speed=38.71 Mbps, mb_sent=1152.72 Mb]COMET ERROR: File could not be uploaded\n",
      " 52%|█████▏    | 3286/6300 [11:55<11:07,  4.51it/s, curr_speed=38.74 Mbps, mb_sent=1153.09 Mb]COMET ERROR: File could not be uploaded\n",
      " 52%|█████▏    | 3287/6300 [11:55<11:05,  4.53it/s, curr_speed=38.74 Mbps, mb_sent=1153.49 Mb]COMET ERROR: File could not be uploaded\n",
      " 52%|█████▏    | 3288/6300 [11:56<11:08,  4.50it/s, curr_speed=38.74 Mbps, mb_sent=1153.87 Mb]COMET ERROR: File could not be uploaded\n",
      " 52%|█████▏    | 3289/6300 [11:56<11:25,  4.39it/s, curr_speed=38.68 Mbps, mb_sent=1154.23 Mb]COMET ERROR: File could not be uploaded\n",
      " 52%|█████▏    | 3290/6300 [11:56<11:15,  4.46it/s, curr_speed=38.70 Mbps, mb_sent=1154.65 Mb]COMET ERROR: File could not be uploaded\n",
      " 52%|█████▏    | 3291/6300 [11:56<11:31,  4.35it/s, curr_speed=38.80 Mbps, mb_sent=1155.11 Mb]COMET ERROR: File could not be uploaded\n",
      " 52%|█████▏    | 3292/6300 [11:56<11:24,  4.39it/s, curr_speed=38.85 Mbps, mb_sent=1155.54 Mb]COMET ERROR: File could not be uploaded\n",
      " 52%|█████▏    | 3293/6300 [11:57<11:26,  4.38it/s, curr_speed=38.86 Mbps, mb_sent=1155.96 Mb]COMET ERROR: File could not be uploaded\n",
      " 52%|█████▏    | 3294/6300 [11:57<11:18,  4.43it/s, curr_speed=38.85 Mbps, mb_sent=1156.34 Mb]COMET ERROR: File could not be uploaded\n",
      " 52%|█████▏    | 3295/6300 [11:57<11:22,  4.40it/s, curr_speed=38.80 Mbps, mb_sent=1156.71 Mb]COMET ERROR: File could not be uploaded\n",
      " 52%|█████▏    | 3296/6300 [11:57<11:22,  4.40it/s, curr_speed=38.84 Mbps, mb_sent=1157.12 Mb]COMET ERROR: File could not be uploaded\n",
      " 52%|█████▏    | 3297/6300 [11:58<11:11,  4.47it/s, curr_speed=38.88 Mbps, mb_sent=1157.52 Mb]COMET ERROR: File could not be uploaded\n",
      "COMET ERROR: File could not be uploaded\n",
      " 53%|█████▎    | 3369/6300 [12:13<09:54,  4.93it/s, curr_speed=38.65 Mbps, mb_sent=1185.11 Mb]COMET ERROR: File could not be uploaded\n",
      "COMET ERROR: File could not be uploaded\n",
      "COMET ERROR: File could not be uploaded\n",
      "COMET ERROR: File could not be uploaded\n",
      " 57%|█████▋    | 3578/6300 [12:59<09:35,  4.73it/s, curr_speed=38.29 Mbps, mb_sent=1264.98 Mb]COMET ERROR: File could not be uploaded\n",
      " 59%|█████▉    | 3732/6300 [13:49<15:39,  2.73it/s, curr_speed=38.86 Mbps, mb_sent=1324.64 Mb]COMET ERROR: File could not be uploaded\n",
      " 82%|████████▏ | 5149/6300 [21:05<03:53,  4.94it/s, curr_speed=38.80 Mbps, mb_sent=1871.35 Mb]COMET ERROR: File could not be uploaded\n",
      "COMET ERROR: File could not be uploaded\n",
      "COMET ERROR: File could not be uploaded\n",
      "COMET ERROR: File could not be uploaded\n",
      "COMET ERROR: File could not be uploaded\n",
      "COMET ERROR: File could not be uploaded\n",
      "COMET ERROR: File could not be uploaded\n",
      "COMET ERROR: File could not be uploaded\n",
      "COMET ERROR: File could not be uploaded\n",
      "COMET ERROR: File could not be uploaded\n",
      "COMET ERROR: File could not be uploaded\n",
      "COMET ERROR: File could not be uploaded\n",
      "100%|██████████| 6300/6300 [24:59<00:00,  4.20it/s, curr_speed=39.09 Mbps, mb_sent=2315.90 Mb]\n"
     ]
    },
    {
     "name": "stdout",
     "output_type": "stream",
     "text": [
      "Waiting for simulation script to connect on port: tcp://localhost:18638\n",
      "Please start proper ns-3 simulation script using ./waf --run \"...\"\n",
      "Sent 2315.90 Mb/s.\tMean speed: 38.60 Mb/s\tEpisode 12/15 finished\n",
      "\n",
      "12\n",
      "Turning off noise\n",
      "6.723999|6.589966|6.589966|7.148438|6.511780|0|0|0|0|0|5|-nan\n"
     ]
    },
    {
     "name": "stderr",
     "output_type": "stream",
     "text": [
      " 17%|█▋        | 1075/6300 [04:29<44:57,  1.94it/s, curr_speed=31.30 Mbps, mb_sent=289.98 Mb] COMET ERROR: File could not be uploaded\n",
      " 17%|█▋        | 1076/6300 [04:30<42:04,  2.07it/s, curr_speed=31.25 Mbps, mb_sent=290.32 Mb]COMET ERROR: File could not be uploaded\n",
      " 17%|█▋        | 1077/6300 [04:30<39:27,  2.21it/s, curr_speed=31.11 Mbps, mb_sent=290.57 Mb]COMET ERROR: File could not be uploaded\n",
      " 17%|█▋        | 1088/6300 [04:35<39:48,  2.18it/s, curr_speed=29.92 Mbps, mb_sent=293.66 Mb]COMET ERROR: File could not be uploaded\n",
      " 17%|█▋        | 1089/6300 [04:36<41:42,  2.08it/s, curr_speed=29.86 Mbps, mb_sent=293.97 Mb]COMET ERROR: File could not be uploaded\n",
      " 17%|█▋        | 1090/6300 [04:37<44:35,  1.95it/s, curr_speed=29.79 Mbps, mb_sent=294.30 Mb]COMET ERROR: File could not be uploaded\n",
      " 17%|█▋        | 1091/6300 [04:37<43:41,  1.99it/s, curr_speed=29.62 Mbps, mb_sent=294.57 Mb]COMET ERROR: File could not be uploaded\n",
      "100%|██████████| 6300/6300 [24:07<00:00,  4.35it/s, curr_speed=38.94 Mbps, mb_sent=2313.16 Mb]\n"
     ]
    },
    {
     "name": "stdout",
     "output_type": "stream",
     "text": [
      "Waiting for simulation script to connect on port: tcp://localhost:30703\n",
      "Please start proper ns-3 simulation script using ./waf --run \"...\"\n",
      "Sent 2313.16 Mb/s.\tMean speed: 38.55 Mb/s\tEpisode 13/15 finished\n",
      "\n",
      "13\n",
      "Turning off noise\n",
      "6.723999|6.589966|6.589966|7.148438|6.511780|0|0|0|0|0|5|-nan\n"
     ]
    },
    {
     "name": "stderr",
     "output_type": "stream",
     "text": [
      "100%|██████████| 6300/6300 [21:58<00:00,  4.78it/s, curr_speed=38.93 Mbps, mb_sent=2312.28 Mb]\n"
     ]
    },
    {
     "name": "stdout",
     "output_type": "stream",
     "text": [
      "Waiting for simulation script to connect on port: tcp://localhost:23135\n",
      "Please start proper ns-3 simulation script using ./waf --run \"...\"\n",
      "Sent 2312.28 Mb/s.\tMean speed: 38.54 Mb/s\tEpisode 14/15 finished\n",
      "\n",
      "14\n",
      "Turning off noise\n",
      "6.723999|6.589966|6.589966|7.148438|6.511780|0|0|0|0|0|5|-nan\n"
     ]
    },
    {
     "name": "stderr",
     "output_type": "stream",
     "text": [
      "100%|██████████| 6300/6300 [14:29<00:00,  7.25it/s, curr_speed=38.49 Mbps, mb_sent=2317.80 Mb]\n"
     ]
    },
    {
     "name": "stdout",
     "output_type": "stream",
     "text": [
      "Waiting for simulation script to connect on port: tcp://localhost:45523\n",
      "Please start proper ns-3 simulation script using ./waf --run \"...\"\n"
     ]
    },
    {
     "name": "stderr",
     "output_type": "stream",
     "text": [
      "COMET INFO: ----------------------------\n",
      "COMET INFO: Comet.ml Experiment Summary:\n",
      "COMET INFO:   Data:\n",
      "COMET INFO:     url: https://www.comet.com/sheila-janota/rl-in-wifi/59a60d09a4644aaaa8fa8ec1d23495b0\n",
      "COMET INFO:   Metrics [count] (min, max):\n",
      "COMET INFO:     Chosen CW1 [89985]           : (16.0, 1024.0)\n",
      "COMET INFO:     Chosen CW2 [89985]           : (16.0, 1024.0)\n",
      "COMET INFO:     Chosen CW3 [89985]           : (16.0, 1024.0)\n",
      "COMET INFO:     Chosen CW4 [89985]           : (16.0, 1024.0)\n",
      "COMET INFO:     Chosen CW5 [89985]           : (16.0, 1024.0)\n",
      "COMET INFO:     Cumulative reward [15]       : (629.7743652239442, 654.430517539382)\n",
      "COMET INFO:     Current throughput [89985]   : (28.482027053833008, 50.418785095214844)\n",
      "COMET INFO:     Current throughput1 [89985]  : (0.0, 21.07671356201172)\n",
      "COMET INFO:     Current throughput2 [89985]  : (0.0, 21.07671356201172)\n",
      "COMET INFO:     Current throughput3 [89985]  : (0.0, 20.730466842651367)\n",
      "COMET INFO:     Current throughput4 [89985]  : (0.0, 19.26727294921875)\n",
      "COMET INFO:     Current throughput5 [89985]  : (0.0, 18.86517333984375)\n",
      "COMET INFO:     Fairness index [89985]       : (0.7999070286750793, 0.9999989867210388)\n",
      "COMET INFO:     Megabytes sent [89985]       : (0.346250981092453, 2337.0463212430477)\n",
      "COMET INFO:     Observation 0 [89985]        : (0.0, 0.6295601852114002)\n",
      "COMET INFO:     Observation 1 [89985]        : (0.0, 0.4511049971072844)\n",
      "COMET INFO:     Per-ep reward [89985]        : (30.196191407740116, 654.430517539382)\n",
      "COMET INFO:     Round megabytes sent1 [89985]: (0.0, 11.571533203125)\n",
      "COMET INFO:     Round megabytes sent2 [89985]: (0.0, 11.53802490234375)\n",
      "COMET INFO:     Round megabytes sent3 [89985]: (0.0, 11.5045166015625)\n",
      "COMET INFO:     Round megabytes sent4 [89985]: (0.0, 11.44866943359375)\n",
      "COMET INFO:     Round megabytes sent5 [89985]: (0.0, 11.52685546875)\n",
      "COMET INFO:     Round reward [89985]         : (0.04169921949505806, 0.12509766221046448)\n",
      "COMET INFO:     Speed [15]                   : (38.06987965926528, 38.95077202071746)\n",
      "COMET INFO:     Station count [89985]        : (5.0, 5.0)\n",
      "COMET INFO:     actor_loss [89985]           : (-629330.0625, 0.0)\n",
      "COMET INFO:     critic_loss [89985]          : (0.0, 3197150464.0)\n",
      "COMET INFO:     loss [167908]                : (-134144672.0, 2.7848360070846874e+17)\n",
      "COMET INFO:   Uploads:\n",
      "COMET INFO:     histogram3d: 89985\n",
      "COMET INFO: ----------------------------\n"
     ]
    },
    {
     "name": "stdout",
     "output_type": "stream",
     "text": [
      "Sent 2317.80 Mb/s.\tMean speed: 38.63 Mb/s\tEpisode 15/15 finished\n",
      "\n"
     ]
    },
    {
     "name": "stderr",
     "output_type": "stream",
     "text": [
      "COMET INFO: Uploading stats to Comet before program termination (may take several seconds)\n",
      "COMET INFO: Waiting for completion of the file uploads (may take several seconds)\n",
      "COMET INFO: Still uploading\n",
      "COMET INFO: Still uploading\n",
      "COMET INFO: Still uploading\n",
      "COMET INFO: Still uploading\n",
      "COMET INFO: Still uploading\n",
      "COMET INFO: Still uploading\n",
      "COMET INFO: Still uploading\n",
      "COMET INFO: Still uploading\n",
      "COMET INFO: Still uploading\n",
      "COMET INFO: Still uploading\n",
      "COMET INFO: Still uploading\n",
      "COMET INFO: Still uploading\n",
      "COMET INFO: Still uploading\n",
      "COMET INFO: Still uploading\n",
      "COMET INFO: Still uploading\n",
      "COMET INFO: Still uploading\n",
      "COMET INFO: Still uploading\n",
      "COMET INFO: Still uploading\n",
      "COMET INFO: Still uploading\n",
      "COMET INFO: Still uploading\n",
      "COMET INFO: Still uploading\n",
      "COMET INFO: Still uploading\n",
      "COMET INFO: Still uploading\n",
      "COMET INFO: Still uploading\n",
      "COMET INFO: Still uploading\n",
      "COMET INFO: Still uploading\n",
      "COMET INFO: Still uploading\n",
      "COMET INFO: Still uploading\n",
      "COMET INFO: Still uploading\n",
      "COMET INFO: Still uploading\n",
      "COMET INFO: Still uploading\n",
      "COMET INFO: Still uploading\n",
      "COMET INFO: Still uploading\n",
      "COMET INFO: Still uploading\n",
      "COMET INFO: Still uploading\n",
      "COMET INFO: Still uploading\n",
      "COMET INFO: Still uploading\n",
      "COMET INFO: Still uploading\n",
      "COMET INFO: Still uploading\n",
      "COMET INFO: Still uploading\n",
      "COMET INFO: Still uploading\n",
      "COMET INFO: Still uploading\n",
      "COMET INFO: Still uploading\n",
      "COMET INFO: Still uploading\n",
      "COMET INFO: Still uploading\n",
      "COMET INFO: Still uploading\n",
      "COMET INFO: Still uploading\n",
      "COMET INFO: Still uploading\n",
      "COMET INFO: Still uploading\n",
      "COMET INFO: Still uploading\n",
      "COMET INFO: Still uploading\n",
      "COMET INFO: Still uploading\n",
      "COMET INFO: Still uploading\n",
      "COMET INFO: Still uploading\n",
      "COMET INFO: Still uploading\n",
      "COMET INFO: Still uploading\n",
      "COMET INFO: Still uploading\n",
      "COMET INFO: Still uploading\n",
      "COMET INFO: Still uploading\n",
      "COMET INFO: Still uploading\n",
      "COMET INFO: Still uploading\n",
      "COMET INFO: Still uploading\n",
      "COMET INFO: Still uploading\n",
      "COMET INFO: Still uploading\n",
      "COMET INFO: Still uploading\n",
      "COMET INFO: Still uploading\n",
      "COMET INFO: Still uploading\n",
      "COMET INFO: Still uploading\n",
      "COMET INFO: Still uploading\n",
      "COMET INFO: Still uploading\n",
      "COMET INFO: Still uploading\n",
      "COMET INFO: Still uploading\n",
      "COMET INFO: Still uploading\n",
      "COMET INFO: Still uploading\n",
      "COMET INFO: Still uploading\n",
      "COMET INFO: Still uploading\n",
      "COMET INFO: Still uploading\n",
      "COMET INFO: Still uploading\n",
      "COMET INFO: Still uploading\n",
      "COMET INFO: Still uploading\n",
      "COMET INFO: Still uploading\n",
      "COMET INFO: Still uploading\n",
      "COMET INFO: Still uploading\n",
      "COMET INFO: Still uploading\n",
      "COMET INFO: Still uploading\n",
      "COMET INFO: Still uploading\n",
      "COMET INFO: Still uploading\n",
      "COMET INFO: Still uploading\n",
      "COMET INFO: Still uploading\n",
      "COMET INFO: Still uploading\n",
      "COMET INFO: Still uploading\n",
      "COMET INFO: Still uploading\n",
      "COMET INFO: Still uploading\n",
      "COMET INFO: Still uploading\n",
      "COMET INFO: Still uploading\n",
      "COMET INFO: Still uploading\n",
      "COMET INFO: Still uploading\n",
      "COMET INFO: Still uploading\n",
      "COMET INFO: Still uploading\n",
      "COMET INFO: Still uploading\n",
      "COMET INFO: Still uploading\n",
      "COMET INFO: Still uploading\n",
      "COMET INFO: Still uploading\n",
      "COMET INFO: Still uploading\n",
      "COMET INFO: Still uploading\n",
      "COMET INFO: Still uploading\n",
      "COMET INFO: Still uploading\n",
      "COMET INFO: Still uploading\n",
      "COMET INFO: Still uploading\n",
      "COMET INFO: Still uploading\n",
      "COMET INFO: Still uploading\n",
      "COMET INFO: Still uploading\n",
      "COMET INFO: Still uploading\n",
      "COMET INFO: Still uploading\n",
      "COMET INFO: Still uploading\n",
      "COMET INFO: Still uploading\n",
      "COMET INFO: Still uploading\n",
      "COMET INFO: Still uploading\n",
      "COMET INFO: Still uploading\n",
      "COMET INFO: Still uploading\n",
      "COMET ERROR: Comet failed to send all the data back (0 messages and 78 uploads)\n",
      "COMET WARNING: Failed to log run in comet.ml\n"
     ]
    },
    {
     "name": "stdout",
     "output_type": "stream",
     "text": [
      "Training finished.\n"
     ]
    },
    {
     "name": "stderr",
     "output_type": "stream",
     "text": [
      "COMET ERROR: File could not be uploaded\n",
      "COMET ERROR: File could not be uploaded\n",
      "COMET ERROR: File could not be uploaded\n",
      "COMET ERROR: File could not be uploaded\n",
      "COMET ERROR: File could not be uploaded\n",
      "COMET ERROR: File could not be uploaded\n",
      "COMET ERROR: File could not be uploaded\n",
      "COMET ERROR: File could not be uploaded\n",
      "COMET ERROR: File could not be uploaded\n",
      "COMET ERROR: File could not be uploaded\n",
      "COMET ERROR: File could not be uploaded\n",
      "COMET ERROR: File could not be uploaded\n",
      "COMET ERROR: File could not be uploaded\n",
      "COMET ERROR: File could not be uploaded\n",
      "COMET ERROR: File could not be uploaded\n",
      "COMET ERROR: File could not be uploaded\n",
      "COMET ERROR: File could not be uploaded\n",
      "COMET ERROR: File could not be uploaded\n",
      "COMET ERROR: File could not be uploaded\n",
      "COMET ERROR: File could not be uploaded\n",
      "COMET ERROR: File could not be uploaded\n",
      "COMET ERROR: File could not be uploaded\n",
      "COMET ERROR: File could not be uploaded\n",
      "COMET ERROR: File could not be uploaded\n",
      "COMET ERROR: File could not be uploaded\n",
      "COMET ERROR: File could not be uploaded\n",
      "COMET ERROR: File could not be uploaded\n",
      "COMET ERROR: File could not be uploaded\n",
      "COMET ERROR: File could not be uploaded\n",
      "COMET ERROR: File could not be uploaded\n",
      "COMET ERROR: File could not be uploaded\n",
      "COMET ERROR: File could not be uploaded\n",
      "COMET ERROR: File could not be uploaded\n",
      "COMET ERROR: File could not be uploaded\n",
      "COMET ERROR: File could not be uploaded\n",
      "COMET ERROR: File could not be uploaded\n",
      "COMET ERROR: File could not be uploaded\n",
      "COMET ERROR: File could not be uploaded\n",
      "COMET ERROR: File could not be uploaded\n",
      "COMET ERROR: File could not be uploaded\n",
      "COMET ERROR: File could not be uploaded\n",
      "COMET ERROR: File could not be uploaded\n",
      "COMET ERROR: File could not be uploaded\n",
      "COMET ERROR: File could not be uploaded\n",
      "COMET ERROR: File could not be uploaded\n",
      "COMET ERROR: File could not be uploaded\n",
      "COMET ERROR: File could not be uploaded\n",
      "COMET ERROR: File could not be uploaded\n",
      "COMET ERROR: File could not be uploaded\n",
      "COMET ERROR: File could not be uploaded\n",
      "COMET ERROR: File could not be uploaded\n",
      "COMET ERROR: File could not be uploaded\n",
      "COMET ERROR: File could not be uploaded\n",
      "COMET ERROR: File could not be uploaded\n",
      "COMET ERROR: File could not be uploaded\n",
      "COMET ERROR: File could not be uploaded\n",
      "COMET ERROR: File could not be uploaded\n",
      "COMET ERROR: File could not be uploaded\n",
      "COMET ERROR: File could not be uploaded\n",
      "COMET ERROR: File could not be uploaded\n",
      "COMET ERROR: File could not be uploaded\n",
      "COMET ERROR: File could not be uploaded\n",
      "COMET ERROR: File could not be uploaded\n",
      "COMET ERROR: File could not be uploaded\n",
      "COMET ERROR: File could not be uploaded\n",
      "COMET ERROR: File could not be uploaded\n",
      "COMET ERROR: File could not be uploaded\n",
      "COMET ERROR: File could not be uploaded\n",
      "COMET ERROR: File could not be uploaded\n",
      "COMET ERROR: File could not be uploaded\n",
      "COMET ERROR: File could not be uploaded\n",
      "COMET ERROR: File could not be uploaded\n",
      "COMET ERROR: File could not be uploaded\n",
      "COMET ERROR: File could not be uploaded\n",
      "COMET ERROR: File could not be uploaded\n",
      "COMET ERROR: File could not be uploaded\n",
      "COMET ERROR: File could not be uploaded\n",
      "COMET ERROR: File could not be uploaded\n"
     ]
    }
   ],
   "source": [
    "#%%\n",
    "teacher = Teacher(env, 1, Preprocessor(False))\n",
    "\n",
    "lr_actor = 4e-4\n",
    "lr_critic = 4e-3\n",
    "\n",
    "agent_count = 5 # Number of agents to train\n",
    "agents = []    # List to store the agents\n",
    "\n",
    "for i in range(agent_count):\n",
    "    config = Config(buffer_size=4*steps_per_ep*threads_no, batch_size=32, gamma=0.7, tau=1e-3, lr_actor=lr_actor, lr_critic=lr_critic, update_every=1)\n",
    "    agent = Agent(history_length, action_size=1, config=config, actor_layers=[8, 128, 16], critic_layers=[8,128,16])\n",
    "    agents.append(agent)\n",
    "    \n",
    "# Test the model\n",
    "hyperparams = {**config.__dict__, **sim_args}\n",
    "tags = [\"Rew: normalized speed\",\n",
    "        f\"{Agent.NAME}\",\n",
    "        sim_args['scenario'],\n",
    "        f\"Actor: {lr_actor}\",\n",
    "        f\"Critic: {lr_critic}\",\n",
    "        f\"Instances: {threads_no}\",\n",
    "        f\"Station count: {sim_args['nWifi']}\",\n",
    "        *[f\"{key}: {sim_args[key]}\" for key in list(sim_args)[:3]]]\n",
    "# agent.save()\n",
    "logger = teacher.train(agents, EPISODE_COUNT,\n",
    "                        simTime=simTime,\n",
    "                        stepTime=stepTime,\n",
    "                        history_length=history_length,\n",
    "                        send_logs=True,\n",
    "                        experimental=True,\n",
    "                        tags=tags,\n",
    "                        parameters=hyperparams)\n",
    "# logger = teacher.eval(agents,\n",
    "#                         simTime=simTime,\n",
    "#                         stepTime=stepTime,\n",
    "#                         history_length=history_length,\n",
    "#                         tags=tags,\n",
    "#                         parameters=hyperparams)\n",
    "# agent.save()"
   ]
  },
  {
   "cell_type": "code",
   "execution_count": null,
   "id": "de0029c1",
   "metadata": {},
   "outputs": [],
   "source": []
  }
 ],
 "metadata": {
  "kernelspec": {
   "display_name": "Python 3",
   "language": "python",
   "name": "python3"
  },
  "language_info": {
   "codemirror_mode": {
    "name": "ipython",
    "version": 3
   },
   "file_extension": ".py",
   "mimetype": "text/x-python",
   "name": "python",
   "nbconvert_exporter": "python",
   "pygments_lexer": "ipython3",
   "version": "3.7.10"
  }
 },
 "nbformat": 4,
 "nbformat_minor": 5
}
